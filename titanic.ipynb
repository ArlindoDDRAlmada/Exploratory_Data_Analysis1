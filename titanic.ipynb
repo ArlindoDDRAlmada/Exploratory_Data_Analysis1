{
 "cells": [
  {
   "cell_type": "code",
   "execution_count": 2,
   "metadata": {},
   "outputs": [],
   "source": [
    "import pandas as pd\n",
    "import numpy as np\n",
    "# for Box-Cox Transformation\n",
    "from scipy import stats\n",
    "\n",
    "# for min_max scaling\n",
    "from mlxtend.preprocessing import minmax_scaling\n",
    "\n",
    "# plotting modules\n",
    "import seaborn as sns\n",
    "import missingno\n",
    "\n",
    "import matplotlib.pyplot as plt\n"
   ]
  },
  {
   "cell_type": "code",
   "execution_count": 6,
   "metadata": {},
   "outputs": [
    {
     "data": {
      "text/html": [
       "<div>\n",
       "<style scoped>\n",
       "    .dataframe tbody tr th:only-of-type {\n",
       "        vertical-align: middle;\n",
       "    }\n",
       "\n",
       "    .dataframe tbody tr th {\n",
       "        vertical-align: top;\n",
       "    }\n",
       "\n",
       "    .dataframe thead th {\n",
       "        text-align: right;\n",
       "    }\n",
       "</style>\n",
       "<table border=\"1\" class=\"dataframe\">\n",
       "  <thead>\n",
       "    <tr style=\"text-align: right;\">\n",
       "      <th></th>\n",
       "      <th>PassengerId</th>\n",
       "      <th>Survived</th>\n",
       "      <th>Pclass</th>\n",
       "      <th>Name</th>\n",
       "      <th>Sex</th>\n",
       "      <th>Age</th>\n",
       "      <th>SibSp</th>\n",
       "      <th>Parch</th>\n",
       "      <th>Ticket</th>\n",
       "      <th>Fare</th>\n",
       "      <th>Cabin</th>\n",
       "      <th>Embarked</th>\n",
       "    </tr>\n",
       "  </thead>\n",
       "  <tbody>\n",
       "    <tr>\n",
       "      <td>0</td>\n",
       "      <td>1</td>\n",
       "      <td>0</td>\n",
       "      <td>3</td>\n",
       "      <td>Braund, Mr. Owen Harris</td>\n",
       "      <td>male</td>\n",
       "      <td>22.0</td>\n",
       "      <td>1</td>\n",
       "      <td>0</td>\n",
       "      <td>A/5 21171</td>\n",
       "      <td>7.2500</td>\n",
       "      <td>NaN</td>\n",
       "      <td>S</td>\n",
       "    </tr>\n",
       "    <tr>\n",
       "      <td>1</td>\n",
       "      <td>2</td>\n",
       "      <td>1</td>\n",
       "      <td>1</td>\n",
       "      <td>Cumings, Mrs. John Bradley (Florence Briggs Th...</td>\n",
       "      <td>female</td>\n",
       "      <td>38.0</td>\n",
       "      <td>1</td>\n",
       "      <td>0</td>\n",
       "      <td>PC 17599</td>\n",
       "      <td>71.2833</td>\n",
       "      <td>C85</td>\n",
       "      <td>C</td>\n",
       "    </tr>\n",
       "    <tr>\n",
       "      <td>2</td>\n",
       "      <td>3</td>\n",
       "      <td>1</td>\n",
       "      <td>3</td>\n",
       "      <td>Heikkinen, Miss. Laina</td>\n",
       "      <td>female</td>\n",
       "      <td>26.0</td>\n",
       "      <td>0</td>\n",
       "      <td>0</td>\n",
       "      <td>STON/O2. 3101282</td>\n",
       "      <td>7.9250</td>\n",
       "      <td>NaN</td>\n",
       "      <td>S</td>\n",
       "    </tr>\n",
       "    <tr>\n",
       "      <td>3</td>\n",
       "      <td>4</td>\n",
       "      <td>1</td>\n",
       "      <td>1</td>\n",
       "      <td>Futrelle, Mrs. Jacques Heath (Lily May Peel)</td>\n",
       "      <td>female</td>\n",
       "      <td>35.0</td>\n",
       "      <td>1</td>\n",
       "      <td>0</td>\n",
       "      <td>113803</td>\n",
       "      <td>53.1000</td>\n",
       "      <td>C123</td>\n",
       "      <td>S</td>\n",
       "    </tr>\n",
       "    <tr>\n",
       "      <td>4</td>\n",
       "      <td>5</td>\n",
       "      <td>0</td>\n",
       "      <td>3</td>\n",
       "      <td>Allen, Mr. William Henry</td>\n",
       "      <td>male</td>\n",
       "      <td>35.0</td>\n",
       "      <td>0</td>\n",
       "      <td>0</td>\n",
       "      <td>373450</td>\n",
       "      <td>8.0500</td>\n",
       "      <td>NaN</td>\n",
       "      <td>S</td>\n",
       "    </tr>\n",
       "  </tbody>\n",
       "</table>\n",
       "</div>"
      ],
      "text/plain": [
       "   PassengerId  Survived  Pclass  \\\n",
       "0            1         0       3   \n",
       "1            2         1       1   \n",
       "2            3         1       3   \n",
       "3            4         1       1   \n",
       "4            5         0       3   \n",
       "\n",
       "                                                Name     Sex   Age  SibSp  \\\n",
       "0                            Braund, Mr. Owen Harris    male  22.0      1   \n",
       "1  Cumings, Mrs. John Bradley (Florence Briggs Th...  female  38.0      1   \n",
       "2                             Heikkinen, Miss. Laina  female  26.0      0   \n",
       "3       Futrelle, Mrs. Jacques Heath (Lily May Peel)  female  35.0      1   \n",
       "4                           Allen, Mr. William Henry    male  35.0      0   \n",
       "\n",
       "   Parch            Ticket     Fare Cabin Embarked  \n",
       "0      0         A/5 21171   7.2500   NaN        S  \n",
       "1      0          PC 17599  71.2833   C85        C  \n",
       "2      0  STON/O2. 3101282   7.9250   NaN        S  \n",
       "3      0            113803  53.1000  C123        S  \n",
       "4      0            373450   8.0500   NaN        S  "
      ]
     },
     "execution_count": 6,
     "metadata": {},
     "output_type": "execute_result"
    }
   ],
   "source": [
    "# Load countries data\n",
    "titanic = pd.read_csv(\"Titanic.csv\")\n",
    "\n",
    "titanic.head()"
   ]
  },
  {
   "cell_type": "code",
   "execution_count": 4,
   "metadata": {},
   "outputs": [
    {
     "data": {
      "text/html": [
       "<div>\n",
       "<style scoped>\n",
       "    .dataframe tbody tr th:only-of-type {\n",
       "        vertical-align: middle;\n",
       "    }\n",
       "\n",
       "    .dataframe tbody tr th {\n",
       "        vertical-align: top;\n",
       "    }\n",
       "\n",
       "    .dataframe thead th {\n",
       "        text-align: right;\n",
       "    }\n",
       "</style>\n",
       "<table border=\"1\" class=\"dataframe\">\n",
       "  <thead>\n",
       "    <tr style=\"text-align: right;\">\n",
       "      <th></th>\n",
       "      <th>PassengerId</th>\n",
       "      <th>Survived</th>\n",
       "      <th>Pclass</th>\n",
       "      <th>Age</th>\n",
       "      <th>SibSp</th>\n",
       "      <th>Parch</th>\n",
       "      <th>Fare</th>\n",
       "    </tr>\n",
       "  </thead>\n",
       "  <tbody>\n",
       "    <tr>\n",
       "      <td>count</td>\n",
       "      <td>891.000000</td>\n",
       "      <td>891.000000</td>\n",
       "      <td>891.000000</td>\n",
       "      <td>714.000000</td>\n",
       "      <td>891.000000</td>\n",
       "      <td>891.000000</td>\n",
       "      <td>891.000000</td>\n",
       "    </tr>\n",
       "    <tr>\n",
       "      <td>mean</td>\n",
       "      <td>446.000000</td>\n",
       "      <td>0.383838</td>\n",
       "      <td>2.308642</td>\n",
       "      <td>29.699118</td>\n",
       "      <td>0.523008</td>\n",
       "      <td>0.381594</td>\n",
       "      <td>32.204208</td>\n",
       "    </tr>\n",
       "    <tr>\n",
       "      <td>std</td>\n",
       "      <td>257.353842</td>\n",
       "      <td>0.486592</td>\n",
       "      <td>0.836071</td>\n",
       "      <td>14.526497</td>\n",
       "      <td>1.102743</td>\n",
       "      <td>0.806057</td>\n",
       "      <td>49.693429</td>\n",
       "    </tr>\n",
       "    <tr>\n",
       "      <td>min</td>\n",
       "      <td>1.000000</td>\n",
       "      <td>0.000000</td>\n",
       "      <td>1.000000</td>\n",
       "      <td>0.420000</td>\n",
       "      <td>0.000000</td>\n",
       "      <td>0.000000</td>\n",
       "      <td>0.000000</td>\n",
       "    </tr>\n",
       "    <tr>\n",
       "      <td>25%</td>\n",
       "      <td>223.500000</td>\n",
       "      <td>0.000000</td>\n",
       "      <td>2.000000</td>\n",
       "      <td>20.125000</td>\n",
       "      <td>0.000000</td>\n",
       "      <td>0.000000</td>\n",
       "      <td>7.910400</td>\n",
       "    </tr>\n",
       "    <tr>\n",
       "      <td>50%</td>\n",
       "      <td>446.000000</td>\n",
       "      <td>0.000000</td>\n",
       "      <td>3.000000</td>\n",
       "      <td>28.000000</td>\n",
       "      <td>0.000000</td>\n",
       "      <td>0.000000</td>\n",
       "      <td>14.454200</td>\n",
       "    </tr>\n",
       "    <tr>\n",
       "      <td>75%</td>\n",
       "      <td>668.500000</td>\n",
       "      <td>1.000000</td>\n",
       "      <td>3.000000</td>\n",
       "      <td>38.000000</td>\n",
       "      <td>1.000000</td>\n",
       "      <td>0.000000</td>\n",
       "      <td>31.000000</td>\n",
       "    </tr>\n",
       "    <tr>\n",
       "      <td>max</td>\n",
       "      <td>891.000000</td>\n",
       "      <td>1.000000</td>\n",
       "      <td>3.000000</td>\n",
       "      <td>80.000000</td>\n",
       "      <td>8.000000</td>\n",
       "      <td>6.000000</td>\n",
       "      <td>512.329200</td>\n",
       "    </tr>\n",
       "  </tbody>\n",
       "</table>\n",
       "</div>"
      ],
      "text/plain": [
       "       PassengerId    Survived      Pclass         Age       SibSp  \\\n",
       "count   891.000000  891.000000  891.000000  714.000000  891.000000   \n",
       "mean    446.000000    0.383838    2.308642   29.699118    0.523008   \n",
       "std     257.353842    0.486592    0.836071   14.526497    1.102743   \n",
       "min       1.000000    0.000000    1.000000    0.420000    0.000000   \n",
       "25%     223.500000    0.000000    2.000000   20.125000    0.000000   \n",
       "50%     446.000000    0.000000    3.000000   28.000000    0.000000   \n",
       "75%     668.500000    1.000000    3.000000   38.000000    1.000000   \n",
       "max     891.000000    1.000000    3.000000   80.000000    8.000000   \n",
       "\n",
       "            Parch        Fare  \n",
       "count  891.000000  891.000000  \n",
       "mean     0.381594   32.204208  \n",
       "std      0.806057   49.693429  \n",
       "min      0.000000    0.000000  \n",
       "25%      0.000000    7.910400  \n",
       "50%      0.000000   14.454200  \n",
       "75%      0.000000   31.000000  \n",
       "max      6.000000  512.329200  "
      ]
     },
     "execution_count": 4,
     "metadata": {},
     "output_type": "execute_result"
    }
   ],
   "source": [
    "titanic.describe()"
   ]
  },
  {
   "cell_type": "markdown",
   "metadata": {},
   "source": [
    "The dataset contains the following columns:\n",
    "\n",
    "PassengerId: ID assigned to each passenger\n",
    "\n",
    "Survived: Whether the passenger survived (0 = No, 1 = Yes)\n",
    "\n",
    "Pclass: Ticket class (1 = 1st, 2 = 2nd, 3 = 3rd)\n",
    "\n",
    "Name: Passenger's name\n",
    "\n",
    "Sex: Passenger's sex\n",
    "\n",
    "Age: Passenger's age\n",
    "\n",
    "SibSp: Number of siblings/spouses aboard\n",
    "\n",
    "Parch: Number of parents/children aboard\n",
    "\n",
    "Ticket: Ticket number\n",
    "\n",
    "Fare: Fare paid for the ticket\n",
    "\n",
    "Cabin: Cabin number\n",
    "\n",
    "Embarked: Port of embarkation (C = Cherbourg, Q = Queenstown, S = Southampton)\n",
    "\n",
    "Let's explore the dataset and address the guiding questions:"
   ]
  },
  {
   "cell_type": "markdown",
   "metadata": {},
   "source": [
    "1. What is the most important factor in determining survival of the Titanic incident?\n",
    "\n",
    "To determine the most important factor, we can analyze the relationship between the survival outcome (Survived) and other variables. Let's start by visualizing the distribution of survival:"
   ]
  },
  {
   "cell_type": "code",
   "execution_count": 8,
   "metadata": {},
   "outputs": [
    {
     "name": "stdout",
     "output_type": "stream",
     "text": [
      "Number of survivors: 342\n",
      "Number of non-survivors: 549\n"
     ]
    },
    {
     "data": {
      "image/png": "[encoded data removed]",
      "text/plain": [
       "<Figure size 432x288 with 1 Axes>"
      ]
     },
     "metadata": {
      "needs_background": "light"
     },
     "output_type": "display_data"
    }
   ],
   "source": [
    "# Count the number of survivors and non-survivors\n",
    "survivor_count = titanic[\"Survived\"].value_counts()[1]\n",
    "non_survivor_count = titanic[\"Survived\"].value_counts()[0]\n",
    "\n",
    "# Display the number of survivors and non-survivors\n",
    "print(\"Number of survivors:\", survivor_count)\n",
    "print(\"Number of non-survivors:\", non_survivor_count)\n",
    "\n",
    "sns.countplot(x='Survived', data=titanic)\n",
    "plt.title('Survival Distribution')\n",
    "plt.show()"
   ]
  },
  {
   "cell_type": "markdown",
   "metadata": {},
   "source": [
    "The statement \"Survival distribution, Number of survivors: 342, Number of non-survivors: 549\" is describing the distribution of survival outcomes in the Titanic dataset.\n",
    "\n",
    "In the dataset, there are 342 individuals who are marked as survivors, meaning they survived the Titanic incident. These individuals may have been rescued and made it to safety through various means such as lifeboats or other rescue efforts.\n",
    "\n",
    "On the other hand, there are 549 individuals marked as non-survivors, indicating that they did not survive the Titanic incident. These individuals tragically perished in the event, either due to the sinking of the ship, lack of access to lifeboats, or other circumstances.\n",
    "\n",
    "Understanding the distribution of survivors and non-survivors is important in analysing the impact of different factors on survival. By examining the characteristics and features of individuals who survived or did not survive, we can gain insights into the factors that played a role in determining the outcome of the Titanic incident.\n",
    "\n",
    "To further analyse the factors influencing survival, we can explore relationships between survival and various features in the dataset, such as passenger class, gender, age, fare, etc. By examining these relationships, we can identify patterns or trends that may explain the differences in survival rates between different groups of passengers."
   ]
  },
  {
   "cell_type": "markdown",
   "metadata": {},
   "source": [
    "2. In the movie, the upper-class passengers were given preference on lifeboats. Does this show in the data? \"Women and children first\". Was this the case?\n",
    "\n",
    "To investigate whether there is a relationship between survival and ticket class (Pclass), as well as the \"women and children first\" principle, we can create a grouped bar plot to compare the survival rates based on these factors:"
   ]
  },
  {
   "cell_type": "code",
   "execution_count": 9,
   "metadata": {},
   "outputs": [
    {
     "data": {
      "image/png": "[encoded data removed]",
      "text/plain": [
       "<Figure size 432x288 with 1 Axes>"
      ]
     },
     "metadata": {
      "needs_background": "light"
     },
     "output_type": "display_data"
    }
   ],
   "source": [
    "sns.barplot(x='Pclass', y='Survived', hue='Sex', data=titanic)\n",
    "plt.title('Survival Rate by Ticket Class and Sex')\n",
    "plt.show()\n"
   ]
  },
  {
   "cell_type": "markdown",
   "metadata": {},
   "source": [
    "This plot shows the survival rate for different ticket classes (1st, 2nd, and 3rd) and sexes (male and female). \n",
    "\n",
    "The analysis indicates that there is evidence supporting the notion that upper-class passengers were given preference on lifeboats during the Titanic incident.\n",
    "\n",
    "The graph displays the survival rates for each passenger class based on gender. It reveals that the survival rate for female passengers in the first class is approximately 0.99, indicating a high likelihood of survival. Similarly, the survival rate for female passengers in the second class is around 0.97. These rates suggest that a significant majority of upper-class women survived the disaster.\n",
    "\n",
    "On the other hand, the survival rates for male passengers in both the first and second classes are significantly lower. The survival rate for male passengers in the first class is approximately 0.39, while for male passengers in the second class, it drops to approximately 0.17. These lower survival rates for upper-class males suggest that there was a preference given to women over men when allocating lifeboats.\n",
    "\n",
    "Furthermore, the survival rates for both female and male passengers in the third class (lowest class) are considerably lower compared to the upper classes. The survival rate for female passengers in the third class is approximately 0.43, while for male passengers, it is around 0.16. This indicates that the preference given to upper-class passengers was not as significant for those in the third class.\n",
    "\n",
    "In summary, the data supports the idea that upper-class passengers, particularly women, had a higher chance of survival during the Titanic incident. The survival rates for upper-class females are considerably higher than those for lower-class passengers and males in general. This aligns with the notion portrayed in the movie where upper-class passengers were given preference on lifeboats.\n"
   ]
  },
  {
   "cell_type": "markdown",
   "metadata": {},
   "source": [
    "To investigate whether the principle of \"women and children first\" was followed during the Titanic incident, we can analyze the data and see if there is a correlation between gender, age, and survival.\n",
    "\n",
    "We can start by visualizing the survival distribution based on gender. This will help us understand if there is any bias towards the survival of a particular gender. We can use a bar plot to display the count of survivors and non-survivors for each gender category."
   ]
  },
  {
   "cell_type": "code",
   "execution_count": 10,
   "metadata": {},
   "outputs": [
    {
     "data": {
      "image/png": "[encoded data removed]",
      "text/plain": [
       "<Figure size 576x432 with 1 Axes>"
      ]
     },
     "metadata": {},
     "output_type": "display_data"
    }
   ],
   "source": [
    "import matplotlib.pyplot as plt\n",
    "import seaborn as sns\n",
    "\n",
    "sns.set_style(\"whitegrid\")\n",
    "plt.figure(figsize=(8, 6))\n",
    "sns.countplot(data=titanic, x=\"Sex\", hue=\"Survived\")\n",
    "plt.xlabel(\"Gender\")\n",
    "plt.ylabel(\"Count\")\n",
    "plt.title(\"Survival Distribution based on Gender\")\n",
    "plt.legend([\"Non-Survivor\", \"Survivor\"])\n",
    "plt.show()\n"
   ]
  },
  {
   "cell_type": "markdown",
   "metadata": {},
   "source": [
    "This code will create a bar plot showing the count of survivors and non-survivors for each gender category. The x-axis represents the gender, and the y-axis represents the count. The bars will be colored to indicate whether the individual survived or not.\n",
    "\n",
    "If the principle of \"women and children first\" was followed, we would expect to see a higher proportion of female survivors compared to male survivors.\n",
    "\n",
    "Additionally, we can examine the survival distribution based on age. We can create a histogram of age for both survivors and non-survivors to observe any patterns."
   ]
  },
  {
   "cell_type": "code",
   "execution_count": 11,
   "metadata": {},
   "outputs": [
    {
     "data": {
      "image/png": "[encoded data removed]",
      "text/plain": [
       "<Figure size 576x432 with 1 Axes>"
      ]
     },
     "metadata": {},
     "output_type": "display_data"
    }
   ],
   "source": [
    "plt.figure(figsize=(8, 6))\n",
    "sns.histplot(data=titanic, x=\"Age\", hue=\"Survived\", multiple=\"stack\", bins=20)\n",
    "plt.xlabel(\"Age\")\n",
    "plt.ylabel(\"Count\")\n",
    "plt.title(\"Survival Distribution based on Age\")\n",
    "plt.legend([\"Non-Survivor\", \"Survivor\"])\n",
    "plt.show()\n"
   ]
  },
  {
   "cell_type": "markdown",
   "metadata": {},
   "source": [
    "This code will create a histogram showing the distribution of age for survivors and non-survivors. The x-axis represents age, and the y-axis represents the count. The bars will be stacked to show the count of survivors and non-survivors at each age bin.\n",
    "\n",
    "Based on the Survival Distribution based on Age, we can analyze whether the principle of \"Women and children first\" was followed during the Titanic incident.\n",
    "\n",
    "The data reveals that there were 38 non-survivors and 43 survivors among passengers aged 0 to 18. This suggests that the survival rate for children and young individuals in this age range was relatively balanced. While there were some non-survivors, a significant number of children and young individuals did survive.\n",
    "\n",
    "However, the analysis doesn't explicitly provide information about the distribution of gender within this age group, so we cannot draw definitive conclusions about the prioritization of women and children based on this data alone.\n",
    "\n",
    "Moving beyond the age group of 0 to 18, the majority of passengers fall within the age range of 18 to 40 years. The analysis indicates that a significant portion of passengers within this age range survived the incident. While the exact number of survivors is not mentioned, it suggests that a substantial proportion of individuals between 18 and 40 years old managed to survive.\n",
    "\n",
    "It's important to note that this analysis doesn't directly prove or disprove the adherence to the principle of \"Women and children first.\" The data provides insights into the survival distribution based on age, but it doesn't explicitly demonstrate whether women and children were prioritized during the evacuation process.\n",
    "\n",
    "To further investigate the adherence to the principle, it would be beneficial to analyze the survival rates based on gender and age categories simultaneously. This would provide a more comprehensive understanding of whether women and children had a higher likelihood of survival compared to other groups."
   ]
  },
  {
   "cell_type": "markdown",
   "metadata": {},
   "source": [
    "To analyze the survival rates based on gender and age categories simultaneously, we can create a cross-tabulation or a heatmap that provides a visual representation of the survival outcomes."
   ]
  },
  {
   "cell_type": "code",
   "execution_count": 12,
   "metadata": {},
   "outputs": [
    {
     "data": {
      "image/png": "[encoded data removed]",
      "text/plain": [
       "<Figure size 432x288 with 1 Axes>"
      ]
     },
     "metadata": {},
     "output_type": "display_data"
    }
   ],
   "source": [
    "import seaborn as sns\n",
    "\n",
    "# Create a new column for age categories\n",
    "titanic['AgeCategory'] = pd.cut(titanic['Age'], bins=[0, 18, 40, 100], labels=['Child', 'Adult', 'Elderly'])\n",
    "\n",
    "# Create a cross-tabulation of survival by gender and age category\n",
    "survival_cross_tab = pd.crosstab([titanic['Survived'], titanic['Sex']], titanic['AgeCategory'], margins=True, normalize='index')\n",
    "\n",
    "# Plot a heatmap to visualize the survival rates\n",
    "sns.heatmap(survival_cross_tab, annot=True, cmap='Blues', fmt=\".2%\", cbar=False)\n",
    "plt.title('Survival Rates based on Gender and Age Category')\n",
    "plt.xlabel('Age Category')\n",
    "plt.ylabel('Survived, Sex')\n",
    "plt.show()\n"
   ]
  },
  {
   "cell_type": "markdown",
   "metadata": {},
   "source": [
    "The analysis of survival rates based on gender and age categories reveals the following insights:\n",
    "\n",
    "Child (age 0-18): The overall survival rate for children is 19.47%. Among non-survivors, 34.38% were female and 13.06% were male. Among survivors, 25.82% were female and 23.35% were male. This suggests that children, regardless of gender, had a relatively higher chance of survival compared to adults and the elderly.\n",
    "\n",
    "Adult (age 19-40): The overall survival rate for adults is 50.52%. Among non-survivors, 48.44% were female and 63.61% were male. Among survivors, 57.87% were female and 54.84% were male. This indicates that adult females had a higher survival rate compared to adult males. However, the survival rates for both genders in the adult category are higher compared to children.\n",
    "\n",
    "Elderly (age 41 and above): The overall survival rate for the elderly is 21.01%. Among non-survivors, 17.19% were female and 23.33% were male. Among survivors, 18.78% were female and 19.35% were male. This shows that the survival rates for the elderly are relatively lower compared to both children and adults, regardless of gender.\n",
    "\n",
    "Conclusion, the data suggests that the \"women and children first\" principle was partially observed during the Titanic incident. Children had the highest survival rates, followed by adult females. Adult males had the lowest survival rates. However, it is important to note that these observations are based on the provided dataset and may not reflect the exact distribution on the Titanic."
   ]
  },
  {
   "cell_type": "markdown",
   "metadata": {},
   "source": [
    "3. Add one other observation that you have noted in the dataset.\n",
    "\n",
    "One observation that can be explored is the distribution of passenger ages (Age) and its relationship with survival. We can create a histogram and box plot to visualize the age distribution:"
   ]
  },
  {
   "cell_type": "code",
   "execution_count": 13,
   "metadata": {},
   "outputs": [
    {
     "data": {
      "image/png": "[encoded data removed]",
      "text/plain": [
       "<Figure size 432x288 with 1 Axes>"
      ]
     },
     "metadata": {},
     "output_type": "display_data"
    },
    {
     "data": {
      "image/png": "[encoded data removed]",
      "text/plain": [
       "<Figure size 432x288 with 1 Axes>"
      ]
     },
     "metadata": {},
     "output_type": "display_data"
    }
   ],
   "source": [
    "# Plot histogram\n",
    "sns.histplot(data=titanic, x='Age', kde=True)\n",
    "plt.title('Passenger Age Distribution')\n",
    "plt.show()\n",
    "\n",
    "# Plot box plot\n",
    "sns.boxplot(x='Survived', y='Age', data=titanic)\n",
    "plt.title('Age Distribution by Survival')\n",
    "plt.show()"
   ]
  },
  {
   "cell_type": "markdown",
   "metadata": {},
   "source": [
    "The histogram of passenger age distribution provides insights into the spread and concentration of passenger ages. It appears to have a roughly normal distribution, with a concentration of passengers falling within the age range of 18 to 40 years. This suggests that the majority of passengers were young adults.\n",
    "\n",
    "Additionally, there is a spike in the age group of 0 to 5 years, indicating a higher number of infants and young children on board the Titanic. This observation aligns with the historical account of the \"women and children first\" protocol during the evacuation.\n",
    "\n",
    "Furthermore, the histogram reveals a slight right skew, indicating a slightly higher frequency of older passengers compared to younger ones. This suggests that there were some elderly individuals among the passengers.\n",
    "\n",
    "To further analyze the relationship between age and survival, a box plot can be used. The box plot provides a visual comparison of age distributions between survivors and non-survivors. It allows us to identify any differences or patterns in the age distribution of these two groups.\n",
    "\n",
    "The presence of outliers in the box plot indicates age values that are significantly different from the central distribution. These outliers may represent extreme ages among the passengers, such as very young or very old individuals.\n",
    "\n",
    "In summary, the combination of the histogram and box plot allows for a comprehensive analysis of the age distribution among passengers and its relationship with survival outcomes."
   ]
  }
 ],
 "metadata": {
  "kernelspec": {
   "display_name": "Python 3",
   "language": "python",
   "name": "python3"
  },
  "language_info": {
   "codemirror_mode": {
    "name": "ipython",
    "version": 3
   },
   "file_extension": ".py",
   "mimetype": "text/x-python",
   "name": "python",
   "nbconvert_exporter": "python",
   "pygments_lexer": "ipython3",
   "version": "3.7.4"
  }
 },
 "nbformat": 4,
 "nbformat_minor": 2
}
